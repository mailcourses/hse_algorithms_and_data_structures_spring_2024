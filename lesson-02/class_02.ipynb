{
 "cells": [
  {
   "cell_type": "markdown",
   "id": "1da8e7c1",
   "metadata": {},
   "source": [
    "[1, 2, 9, 5, 3, 2, 4, 4]\n",
    "\n",
    "1 (1) + 1 (2) + 2 (4) + 4 (8) + 8 + 16 == 32 <= 2 * n -> O(2 * n) ~ O(n)\n",
    "\n",
    "O(2 * n / n) ~ O(1)"
   ]
  },
  {
   "cell_type": "code",
   "execution_count": 2,
   "id": "2d801aee",
   "metadata": {},
   "outputs": [
    {
     "data": {
      "text/plain": [
       "list"
      ]
     },
     "execution_count": 2,
     "metadata": {},
     "output_type": "execute_result"
    }
   ],
   "source": [
    "type([1, 2, 3])"
   ]
  },
  {
   "cell_type": "code",
   "execution_count": 4,
   "id": "3fe8b6f4",
   "metadata": {},
   "outputs": [
    {
     "data": {
      "text/plain": [
       "[1, 2, 3, 'qwerty']"
      ]
     },
     "execution_count": 4,
     "metadata": {},
     "output_type": "execute_result"
    }
   ],
   "source": [
    "[1, 2, 3, \"qwerty\"]\n",
    "\n",
    "# [*PyObject, *PyObject, *PyObject, *PyObject]"
   ]
  },
  {
   "cell_type": "code",
   "execution_count": 5,
   "id": "c0136783",
   "metadata": {},
   "outputs": [],
   "source": [
    "import array"
   ]
  },
  {
   "cell_type": "code",
   "execution_count": 6,
   "id": "e1697899",
   "metadata": {},
   "outputs": [],
   "source": [
    "x = 2 ** 100"
   ]
  },
  {
   "cell_type": "code",
   "execution_count": 7,
   "id": "2e91028c",
   "metadata": {},
   "outputs": [
    {
     "data": {
      "text/plain": [
       "1267650600228229401496703205376"
      ]
     },
     "execution_count": 7,
     "metadata": {},
     "output_type": "execute_result"
    }
   ],
   "source": [
    "x"
   ]
  },
  {
   "cell_type": "code",
   "execution_count": 8,
   "id": "79c94bdf",
   "metadata": {},
   "outputs": [],
   "source": [
    "arr = array.array(\"l\", [1, 2, 3])"
   ]
  },
  {
   "cell_type": "code",
   "execution_count": 9,
   "id": "655bcfd0",
   "metadata": {},
   "outputs": [
    {
     "data": {
      "text/plain": [
       "array('l', [1, 2, 3])"
      ]
     },
     "execution_count": 9,
     "metadata": {},
     "output_type": "execute_result"
    }
   ],
   "source": [
    "arr"
   ]
  },
  {
   "cell_type": "code",
   "execution_count": 15,
   "id": "7d9e059e",
   "metadata": {},
   "outputs": [],
   "source": [
    "arr[1] = 2 ** 63 - 1"
   ]
  },
  {
   "cell_type": "code",
   "execution_count": 16,
   "id": "40803de7",
   "metadata": {},
   "outputs": [
    {
     "data": {
      "text/plain": [
       "array('l', [1, 9223372036854775807, 3])"
      ]
     },
     "execution_count": 16,
     "metadata": {},
     "output_type": "execute_result"
    }
   ],
   "source": [
    "arr"
   ]
  },
  {
   "cell_type": "code",
   "execution_count": 17,
   "id": "e4c58342",
   "metadata": {},
   "outputs": [
    {
     "ename": "OverflowError",
     "evalue": "Python int too large to convert to C long",
     "output_type": "error",
     "traceback": [
      "\u001b[0;31m---------------------------------------------------------------------------\u001b[0m",
      "\u001b[0;31mOverflowError\u001b[0m                             Traceback (most recent call last)",
      "Input \u001b[0;32mIn [17]\u001b[0m, in \u001b[0;36m<cell line: 1>\u001b[0;34m()\u001b[0m\n\u001b[0;32m----> 1\u001b[0m arr[\u001b[38;5;241m1\u001b[39m] \u001b[38;5;241m=\u001b[39m \u001b[38;5;241m2\u001b[39m \u001b[38;5;241m*\u001b[39m\u001b[38;5;241m*\u001b[39m \u001b[38;5;241m63\u001b[39m\n",
      "\u001b[0;31mOverflowError\u001b[0m: Python int too large to convert to C long"
     ]
    }
   ],
   "source": [
    "arr[1] = 2 ** 63"
   ]
  },
  {
   "cell_type": "code",
   "execution_count": null,
   "id": "bbe2c157",
   "metadata": {},
   "outputs": [],
   "source": []
  },
  {
   "cell_type": "code",
   "execution_count": 18,
   "id": "2d082048",
   "metadata": {},
   "outputs": [],
   "source": [
    "from typing import Optional"
   ]
  },
  {
   "cell_type": "code",
   "execution_count": 25,
   "id": "108dff8e",
   "metadata": {},
   "outputs": [],
   "source": [
    "# сумма == k\n",
    "\n",
    "def find_sum_k(nums: list[int], k: int) -> Optional[tuple[int, int]]:\n",
    "    left = 0\n",
    "    right = len(nums) - 1\n",
    "\n",
    "    while left < right:\n",
    "        s = nums[left] + nums[right]\n",
    "\n",
    "        if s < k:\n",
    "            left += 1\n",
    "        elif s > k:\n",
    "            right -= 1\n",
    "        else:\n",
    "            return left, right  # == return (left, right)\n",
    "\n",
    "\n",
    "assert find_sum_k([1, 2, 3], 5) == (1, 2)\n",
    "assert find_sum_k([1, 2, 3], 4) == (0, 2)\n",
    "assert find_sum_k([1, 2, 3], 6) is None\n",
    "assert find_sum_k([1, 2, 8], 4) is None"
   ]
  },
  {
   "cell_type": "code",
   "execution_count": 30,
   "id": "b955f298",
   "metadata": {},
   "outputs": [],
   "source": [
    "class Node:\n",
    "    def __init__(self, val, next=None):\n",
    "        self.val = val\n",
    "        self.next = next\n",
    "\n",
    "\n",
    "# Node(1, next=2) -> Node(2, next=3) -> Node(3, next=None)\n",
    "# Node(1, next=2) -> Node(2, next=3) -> Node(3, next=2)"
   ]
  },
  {
   "cell_type": "code",
   "execution_count": 32,
   "id": "a1271d6c",
   "metadata": {},
   "outputs": [],
   "source": [
    "def has_cycle(head: Node) -> bool:\n",
    "    slow = fast = head\n",
    "\n",
    "    while fast and fast.next:\n",
    "        fast = fast.next.next\n",
    "        slow = slow.next\n",
    "\n",
    "        if fast is slow:\n",
    "            return True\n",
    "\n",
    "    return False\n",
    "\n",
    "\n",
    "lst1 = Node(1, next=Node(2, next=Node(3)))\n",
    "\n",
    "n3 = Node(3)\n",
    "n2 = Node(2, next=n3)\n",
    "n3.next = n2\n",
    "lst2 = Node(1, next=n2)\n",
    "\n",
    "\n",
    "assert not has_cycle(lst1)\n",
    "assert has_cycle(lst2)"
   ]
  },
  {
   "cell_type": "code",
   "execution_count": null,
   "id": "5a6bd519",
   "metadata": {},
   "outputs": [],
   "source": []
  }
 ],
 "metadata": {
  "kernelspec": {
   "display_name": "Python 3 (ipykernel)",
   "language": "python",
   "name": "python3"
  },
  "language_info": {
   "codemirror_mode": {
    "name": "ipython",
    "version": 3
   },
   "file_extension": ".py",
   "mimetype": "text/x-python",
   "name": "python",
   "nbconvert_exporter": "python",
   "pygments_lexer": "ipython3",
   "version": "3.10.2"
  }
 },
 "nbformat": 4,
 "nbformat_minor": 5
}
