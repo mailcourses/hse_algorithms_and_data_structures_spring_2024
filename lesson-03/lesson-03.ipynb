{
 "cells": [
  {
   "cell_type": "code",
   "execution_count": 1,
   "id": "c4e0e973-a460-4afe-ba82-c5e791326d7b",
   "metadata": {},
   "outputs": [],
   "source": [
    "import time\n",
    "import random"
   ]
  },
  {
   "cell_type": "code",
   "execution_count": 2,
   "id": "f9dec8ce-c24e-4ec3-b45d-8990f5163c77",
   "metadata": {},
   "outputs": [],
   "source": [
    "A = list(range(10 ** 3))\n",
    "#print(f\"{A=}\")"
   ]
  },
  {
   "cell_type": "code",
   "execution_count": 3,
   "id": "5ee17d8b-b811-404e-89d4-f4e56c7262b7",
   "metadata": {},
   "outputs": [
    {
     "name": "stdout",
     "output_type": "stream",
     "text": [
      "[0, 1, 2, 3, 4] [999, 998, 997, 996, 995]\n"
     ]
    }
   ],
   "source": [
    "B = A[:]\n",
    "C = A[::-1]\n",
    "print(B[:5], C[:5])"
   ]
  },
  {
   "cell_type": "code",
   "execution_count": 4,
   "id": "32f7ff30-2541-4091-af94-a3290c42ec60",
   "metadata": {},
   "outputs": [
    {
     "name": "stdout",
     "output_type": "stream",
     "text": [
      "False False\n"
     ]
    }
   ],
   "source": [
    "random.shuffle(A)\n",
    "print(B is A, B == A)"
   ]
  },
  {
   "cell_type": "code",
   "execution_count": 5,
   "id": "ca483d58-b5f0-47fe-80e6-8e73db62cb85",
   "metadata": {},
   "outputs": [],
   "source": [
    "# [3,1,4]\n",
    "def gnome_sort(A):\n",
    "    i = 1\n",
    "    n = len(A)\n",
    "    while i < n:\n",
    "        if A[i] >= A[i-1]:\n",
    "            i += 1\n",
    "            continue\n",
    "        \n",
    "        A[i], A[i-1] = A[i-1], A[i]\n",
    "        i -= 1\n",
    "        if i < 1:\n",
    "            i += 1"
   ]
  },
  {
   "cell_type": "code",
   "execution_count": 6,
   "id": "9ceb47d2-ab2c-4ad2-9549-2295d9c8c98d",
   "metadata": {},
   "outputs": [],
   "source": [
    "def bubble_sort(A):\n",
    "    n = len(A)\n",
    "    for i in range(n-1):\n",
    "        for j in range(n-1):\n",
    "            if A[j] > A[j+1]:\n",
    "                A[j], A[j+1] = A[j+1], A[j]"
   ]
  },
  {
   "cell_type": "code",
   "execution_count": 7,
   "id": "4c5b3536-08d2-4980-9c81-4f13b244a133",
   "metadata": {},
   "outputs": [],
   "source": [
    "def insertion_sort(A):\n",
    "    for i in range(1, len(A)):\n",
    "        key = A[i]\n",
    "        j = i - 1\n",
    "        \n",
    "        #[ 1, 3, 4 ]\n",
    "        while j >= 0 and key < A[j]:\n",
    "            A[j + 1] = A[j]\n",
    "            j -= 1\n",
    "        \n",
    "        A[j + 1] = key"
   ]
  },
  {
   "cell_type": "code",
   "execution_count": 51,
   "id": "800f442a-61fe-4839-97ea-a11576b5d14c",
   "metadata": {},
   "outputs": [],
   "source": [
    "def merge_sort(lst):\n",
    "    merge_sort_helper(lst, 0, len(lst))\n",
    "    \n",
    "def merge_sort_helper(alist, start, end):\n",
    "    if end - start > 1:\n",
    "        mid = (start + end)//2\n",
    "        merge_sort_helper(alist, start, mid)\n",
    "        merge_sort_helper(alist, mid, end)\n",
    "        merge_list(alist, start, mid, end)\n",
    "\n",
    "def merge_list(alist, start, mid, end):\n",
    "    left = alist[start:mid]\n",
    "    right = alist[mid:end]\n",
    "    k = start\n",
    "    i = 0\n",
    "    j = 0\n",
    "    while (start + i < mid and mid + j < end):\n",
    "        if (left[i] <= right[j]):\n",
    "            alist[k] = left[i]\n",
    "            i = i + 1\n",
    "        else:\n",
    "            alist[k] = right[j]\n",
    "            j = j + 1\n",
    "        k = k + 1\n",
    "    if start + i < mid:\n",
    "        while k < end:\n",
    "            alist[k] = left[i]\n",
    "            i = i + 1\n",
    "            k = k + 1\n",
    "    else:\n",
    "        while k < end:\n",
    "            alist[k] = right[j]\n",
    "            j = j + 1\n",
    "            k = k + 1"
   ]
  },
  {
   "cell_type": "code",
   "execution_count": 58,
   "id": "40e1ead8-cc7f-4ec5-8be7-44020aaac546",
   "metadata": {},
   "outputs": [],
   "source": [
    "MIN_MERGE = 32\n",
    "\n",
    "def calc_minrun(n):\n",
    "    r = 0\n",
    "    while n >= MIN_MERGE:\n",
    "        r |= n & 1\n",
    "        n >>= 1\n",
    "    return n + r\n",
    "\n",
    "def insertion_sort_timsort(A, start, end):\n",
    "    for i in range(start+1, end+1):\n",
    "        j = i\n",
    "        while j > start and A[j] < A[j-1]:\n",
    "            A[j], A[j-1] = A[j-1], A[j]\n",
    "            j -= 1\n",
    "\n",
    "def timsort(A):\n",
    "    n = len(A)\n",
    "    minrun = calc_minrun(n)\n",
    "    print(f\"{minrun=}\")\n",
    "    \n",
    "    # Отсортировали подмассивы сортировкой вставкой\n",
    "    for start in range(0, n, minrun):\n",
    "        end = min(start + minrun - 1, n-1)\n",
    "        insertion_sort_timsort(A, start, end)\n",
    "\n",
    "    size = minrun\n",
    "    while size < n:\n",
    "        for left in range(0, n, 2 * size):\n",
    "            # Find ending point of left sub array\n",
    "            # mid+1 is starting point of right sub array\n",
    "            mid = min(n - 1, left + size - 1)\n",
    "            right = min((left + 2 * size - 1), (n - 1))\n",
    "\n",
    "            # Merge sub array arr[left.....mid] &\n",
    "            # arr[mid+1....right]\n",
    "            if mid < right:\n",
    "                merge_list(A, left, mid+1, right)\n",
    "        size = 2 * size\n",
    "    print(f\"[timsort] A={A[:minrun*2]}\")\n"
   ]
  },
  {
   "cell_type": "code",
   "execution_count": 59,
   "id": "1d7b2e46-921d-4f0d-b7bb-ff66d36ef715",
   "metadata": {},
   "outputs": [
    {
     "name": "stdout",
     "output_type": "stream",
     "text": [
      "[64, 88, 70, 28, 41, 50, 54, 17, 6, 21, 76, 47, 71, 4, 53, 74, 12, 11, 66, 2, 19, 73, 15, 62, 27, 90, 84, 44, 77, 93, 14, 40, 18, 38, 58, 82, 39, 60, 32, 30, 34, 57, 24, 75, 5, 31, 43, 36, 3, 8, 26, 67, 9, 80, 1, 97, 63, 96, 91, 52, 48, 13, 89, 29, 46, 7, 0, 35, 16, 81, 83, 94, 10, 23, 42, 56, 86, 49, 65, 22, 51, 25, 68, 55, 99, 61, 78, 37, 33, 85, 72, 45, 79, 59, 95, 92, 87, 98, 20, 69]\n"
     ]
    }
   ],
   "source": [
    "A = list(range(100))\n",
    "random.shuffle(A)\n",
    "print(A)"
   ]
  },
  {
   "cell_type": "code",
   "execution_count": 60,
   "id": "c9de81d9-cc53-4071-b75a-6cbca402a60a",
   "metadata": {
    "scrolled": true
   },
   "outputs": [
    {
     "name": "stdout",
     "output_type": "stream",
     "text": [
      "minrun=25\n",
      "[timsort] A=[0, 1, 2, 3, 4, 5, 6, 7, 8, 9, 10, 11, 12, 13, 14, 15, 16, 17, 18, 19, 20, 21, 22, 23, 24, 25, 26, 27, 28, 29, 30, 31, 32, 33, 34, 35, 36, 37, 38, 39, 40, 41, 42, 43, 44, 45, 46, 47, 48, 49]\n"
     ]
    }
   ],
   "source": [
    "timsort(A)"
   ]
  },
  {
   "cell_type": "code",
   "execution_count": 61,
   "id": "22b55147-e918-4dd8-8252-33a5ddf8c096",
   "metadata": {},
   "outputs": [],
   "source": [
    "sort_arr_funcs = [sorted, gnome_sort, bubble_sort, insertion_sort, merge_sort, timsort]"
   ]
  },
  {
   "cell_type": "code",
   "execution_count": 62,
   "id": "1750bbca-cba8-4105-b52c-da63f6904575",
   "metadata": {},
   "outputs": [
    {
     "name": "stdout",
     "output_type": "stream",
     "text": [
      "[0, 8, 6, 5, 1, 9, 3, 7, 4, 2]\n",
      "[0, 1, 2, 3, 4, 5, 6, 7, 8, 9]\n",
      "[0, 1, 2, 3, 4, 5, 6, 7, 8, 9]\n",
      "[0, 1, 2, 3, 4, 5, 6, 7, 8, 9]\n",
      "[0, 1, 2, 3, 4, 5, 6, 7, 8, 9]\n",
      "minrun=10\n",
      "[timsort] A=[0, 1, 2, 3, 4, 5, 6, 7, 8, 9]\n",
      "[0, 1, 2, 3, 4, 5, 6, 7, 8, 9]\n",
      "[0, 1, 2, 3, 4, 5, 6, 7, 8, 9]\n"
     ]
    }
   ],
   "source": [
    "tmp_sorted = list(range(10))\n",
    "\n",
    "for sort_func in sort_arr_funcs:\n",
    "    tmp = tmp_sorted[:]\n",
    "    random.shuffle(tmp)\n",
    "    sort_func(tmp)\n",
    "    print(tmp)\n",
    "print(tmp)"
   ]
  },
  {
   "cell_type": "code",
   "execution_count": 63,
   "id": "15893a9b-89b6-4bbf-893c-d38b8d7ef8dc",
   "metadata": {},
   "outputs": [
    {
     "name": "stdout",
     "output_type": "stream",
     "text": [
      "[0, 1, 2, 3, 4, 5, 6, 7, 8, 9, 10, 11, 12, 13, 14, 15, 16, 17, 18, 19, 20, 21, 22, 23, 24, 25, 26, 27, 28, 29, 30, 31, 32, 33, 34, 35, 36, 37, 38, 39]\n",
      "Function [sorted] has sorted randomly: 0.0007348060607910156 seconds\n",
      "Function [sorted] has sorted increasing: 1.4781951904296875e-05 seconds\n",
      "Function [sorted] has sorted decreasing: 1.6927719116210938e-05 seconds\n",
      "[0, 1, 2, 3, 4, 5, 6, 7, 8, 9, 10, 11, 12, 13, 14, 15, 16, 17, 18, 19, 20, 21, 22, 23, 24, 25, 26, 27, 28, 29, 30, 31, 32, 33, 34, 35, 36, 37, 38, 39]\n",
      "Function [gnome_sort] has sorted randomly: 5.0067901611328125e-05 seconds\n",
      "Function [gnome_sort] has sorted increasing: 0.00027298927307128906 seconds\n",
      "Function [gnome_sort] has sorted decreasing: 0.29020023345947266 seconds\n",
      "[0, 1, 2, 3, 4, 5, 6, 7, 8, 9, 10, 11, 12, 13, 14, 15, 16, 17, 18, 19, 20, 21, 22, 23, 24, 25, 26, 27, 28, 29, 30, 31, 32, 33, 34, 35, 36, 37, 38, 39]\n",
      "Function [bubble_sort] has sorted randomly: 0.001096963882446289 seconds\n",
      "Function [bubble_sort] has sorted increasing: 0.1306929588317871 seconds\n",
      "Function [bubble_sort] has sorted decreasing: 0.200455904006958 seconds\n",
      "[0, 1, 2, 3, 4, 5, 6, 7, 8, 9, 10, 11, 12, 13, 14, 15, 16, 17, 18, 19, 20, 21, 22, 23, 24, 25, 26, 27, 28, 29, 30, 31, 32, 33, 34, 35, 36, 37, 38, 39]\n",
      "Function [insertion_sort] has sorted randomly: 3.981590270996094e-05 seconds\n",
      "Function [insertion_sort] has sorted increasing: 0.00027489662170410156 seconds\n",
      "Function [insertion_sort] has sorted decreasing: 0.09419417381286621 seconds\n",
      "[0, 1, 2, 3, 4, 5, 6, 7, 8, 9, 10, 11, 12, 13, 14, 15, 16, 17, 18, 19, 20, 21, 22, 23, 24, 25, 26, 27, 28, 29, 30, 31, 32, 33, 34, 35, 36, 37, 38, 39]\n",
      "Function [merge_sort] has sorted randomly: 0.00023484230041503906 seconds\n",
      "Function [merge_sort] has sorted increasing: 0.0030541419982910156 seconds\n",
      "Function [merge_sort] has sorted decreasing: 0.003701925277709961 seconds\n",
      "[0, 1, 2, 3, 4, 5, 6, 7, 8, 9, 10, 11, 12, 13, 14, 15, 16, 17, 18, 19, 20, 21, 22, 23, 24, 25, 26, 27, 28, 29, 30, 31, 32, 33, 34, 35, 36, 37, 38, 39]\n",
      "minrun=25\n",
      "[timsort] A=[0, 1, 2, 3, 4, 5, 6, 7, 8, 9, 10, 11, 12, 13, 14, 15, 16, 17, 18, 19, 20, 21, 22, 23, 24, 25, 26, 27, 28, 29, 30, 31, 32, 33, 34, 35, 36, 37, 38, 39, 40, 41, 42, 43, 44, 45, 46, 47, 48, 49]\n",
      "Function [timsort] has sorted randomly: 0.00010704994201660156 seconds\n",
      "minrun=32\n",
      "[timsort] A=[0, 1, 2, 3, 4, 5, 6, 7, 8, 9, 10, 11, 12, 13, 14, 15, 16, 17, 18, 19, 20, 21, 22, 23, 24, 25, 26, 27, 28, 29, 30, 31, 32, 33, 34, 35, 36, 37, 38, 39, 40, 41, 42, 43, 44, 45, 46, 47, 48, 49, 50, 51, 52, 53, 54, 55, 56, 57, 58, 59, 60, 61, 62, 63]\n",
      "Function [timsort] has sorted increasing: 0.0015311241149902344 seconds\n",
      "minrun=32\n",
      "[timsort] A=[0, 1, 2, 3, 4, 5, 6, 8, 9, 10, 11, 12, 13, 14, 15, 16, 17, 18, 19, 20, 21, 22, 23, 24, 25, 26, 27, 28, 29, 30, 31, 32, 33, 34, 35, 36, 37, 38, 39, 40, 41, 42, 43, 44, 45, 46, 47, 48, 49, 50, 51, 52, 53, 54, 55, 56, 57, 58, 59, 60, 61, 62, 63, 64]\n",
      "Function [timsort] has sorted decreasing: 0.006369113922119141 seconds\n"
     ]
    }
   ],
   "source": [
    "for func in sort_arr_funcs:\n",
    "    A_tmp = A[:]\n",
    "    start_ts = time.time()\n",
    "    print(f\"{A_tmp[:40]}\")\n",
    "    func(A_tmp)\n",
    "    end_ts = time.time()\n",
    "    print(f\"Function [{func.__name__}] has sorted randomly: {end_ts - start_ts} seconds\")\n",
    "\n",
    "    B_tmp = B[:]\n",
    "    start_ts = time.time()\n",
    "    func(B_tmp)\n",
    "    end_ts = time.time()\n",
    "    print(f\"Function [{func.__name__}] has sorted increasing: {end_ts - start_ts} seconds\")\n",
    "\n",
    "    C_tmp = C[:]\n",
    "    start_ts = time.time()\n",
    "    func(C_tmp)\n",
    "    end_ts = time.time()\n",
    "    print(f\"Function [{func.__name__}] has sorted decreasing: {end_ts - start_ts} seconds\")"
   ]
  },
  {
   "cell_type": "code",
   "execution_count": null,
   "id": "12b5c621-1f27-4aa1-b3e1-a6e0d83abcc0",
   "metadata": {},
   "outputs": [],
   "source": []
  },
  {
   "cell_type": "code",
   "execution_count": null,
   "id": "9fb11a55-0ea5-41de-a058-ca7061816a6e",
   "metadata": {},
   "outputs": [],
   "source": []
  },
  {
   "cell_type": "code",
   "execution_count": null,
   "id": "b47c780d-0073-44da-a8fb-9e4ccb052efe",
   "metadata": {},
   "outputs": [],
   "source": []
  },
  {
   "cell_type": "code",
   "execution_count": null,
   "id": "1f79a33d-d648-485e-a850-1b25f14fcb34",
   "metadata": {},
   "outputs": [],
   "source": []
  }
 ],
 "metadata": {
  "kernelspec": {
   "display_name": "Python 3 (ipykernel)",
   "language": "python",
   "name": "python3"
  },
  "language_info": {
   "codemirror_mode": {
    "name": "ipython",
    "version": 3
   },
   "file_extension": ".py",
   "mimetype": "text/x-python",
   "name": "python",
   "nbconvert_exporter": "python",
   "pygments_lexer": "ipython3",
   "version": "3.10.12"
  }
 },
 "nbformat": 4,
 "nbformat_minor": 5
}
